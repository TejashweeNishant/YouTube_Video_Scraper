{
 "cells": [
  {
   "cell_type": "markdown",
   "id": "688663a3-3e82-461c-8423-cdc0cf9061f7",
   "metadata": {},
   "source": [
    "#  YouTube Video Scraper – Second Drop\n",
    "\n",
    "## 1. Overview\n",
    "This dataset was generated using a custom Python-based **web scraping pipeline** that collected metadata from YouTube videos.  \n",
    "The scraping process leveraged **Selenium** and **BeautifulSoup** to dynamically load video pages, extract structured data, and store it in CSV format.\n",
    "\n",
    "The dataset is designed for **Exploratory Data Analysis (EDA)**, visualization, and insights generation from YouTube content.\n",
    "\n",
    "---\n",
    "\n",
    "## 2. Data Collection Process\n",
    "- **Tool Used:** Python (Selenium + BeautifulSoup)\n",
    "- **Target Website:** YouTube\n",
    "- **Scraping Approach:**\n",
    "  - Navigated to each video’s URL.\n",
    "  - Waited for dynamic elements to load (description, like counts).\n",
    "  - Extracted data from HTML elements, including Shadow DOM components.\n",
    "  - Stored results in CSV format.\n",
    "\n",
    "---\n",
    "\n",
    "## 3. Dataset Structure\n",
    "\n",
    "| Column Name    | Data Type | Description |\n",
    "|----------------|-----------|-------------|\n",
    "| `video_link`   | string    | Full URL to the YouTube video |\n",
    "| `title`        | string    | Video title as shown on YouTube |\n",
    "| `views`        | integer   | Total number of views |\n",
    "| `likes`        | integer   | Number of likes on the video |\n",
    "| `description`  | string    | Full text description of the video |\n",
    "| `date`         | date      | Upload date of the video |\n",
    "| `channel_name` | string    | Name of the channel uploading the video |\n",
    "| `duration`     | string    | Length of the video in `HH:MM:SS` format |\n",
    "| `comments`     | integer   | Total number of comments (if available) |\n",
    "\n",
    "---\n",
    "\n",
    "## 4. Data Quality Notes\n",
    "- **Missing Values:** Some videos have no `likes` or `description` due to disabled features or restricted content.\n",
    "- **Dynamic Content:** Like counts can change rapidly; data is accurate at the time of scraping.\n",
    "- **Encoding:** All text fields are UTF-8 encoded to preserve emojis and special characters.\n",
    "\n",
    "---\n",
    "\n",
    "\n",
    "\n",
    "## 5. Potential Uses\n",
    "- **Trend Analysis:** Identify which topics gain the most engagement.\n",
    "- **Content Strategy:** Understand optimal video lengths and posting times.\n",
    "- **Sentiment Analysis:** Extract and analyze description text for audience tone.\n",
    "- **Time Series Analysis:** Study how likes and views change over time.\n",
    "\n",
    "---\n",
    "\n",
    "## 6. Limitations\n",
    "- The dataset represents a snapshot in time.\n",
    "- Some private or region-restricted videos are excluded.\n",
    "- YouTube's HTML structure changes frequently, requiring scraper updates.\n",
    "\n",
    "---\n",
    "\n",
    "## 7. Next Steps\n",
    "- Perform **deep EDA** on engagement metrics.\n",
    "\n",
    "---\n"
   ]
  },
  {
   "cell_type": "code",
   "execution_count": 1,
   "id": "87516d98-c2e7-4a3e-a19d-b8cb608217b9",
   "metadata": {},
   "outputs": [],
   "source": [
    "import time\n",
    "import numpy as np\n",
    "import pandas as pd\n",
    "from tqdm import tqdm\n",
    "\n",
    "from bs4 import BeautifulSoup\n",
    "from selenium import webdriver\n",
    "\n",
    "import chromedriver_binary\n",
    "from selenium.webdriver.common.by import By \n",
    "\n",
    "from selenium.webdriver.support.ui import WebDriverWait\n",
    "from selenium.webdriver.support import expected_conditions as EC\n"
   ]
  },
  {
   "cell_type": "code",
   "execution_count": 3,
   "id": "29f178d8-9f13-4460-bfd8-443acfa3a47a",
   "metadata": {},
   "outputs": [
    {
     "data": {
      "text/html": [
       "<div>\n",
       "<style scoped>\n",
       "    .dataframe tbody tr th:only-of-type {\n",
       "        vertical-align: middle;\n",
       "    }\n",
       "\n",
       "    .dataframe tbody tr th {\n",
       "        vertical-align: top;\n",
       "    }\n",
       "\n",
       "    .dataframe thead th {\n",
       "        text-align: right;\n",
       "    }\n",
       "</style>\n",
       "<table border=\"1\" class=\"dataframe\">\n",
       "  <thead>\n",
       "    <tr style=\"text-align: right;\">\n",
       "      <th></th>\n",
       "      <th>title</th>\n",
       "      <th>views</th>\n",
       "      <th>date_time</th>\n",
       "      <th>video_link</th>\n",
       "      <th>thumbnail_link</th>\n",
       "    </tr>\n",
       "  </thead>\n",
       "  <tbody>\n",
       "    <tr>\n",
       "      <th>0</th>\n",
       "      <td>NIMCET 2026 | How To Prepare NIMCET 2026? | Bi...</td>\n",
       "      <td>1.3K views</td>\n",
       "      <td>1 day ago</td>\n",
       "      <td>/watch?v=Ho_PIAAVLlE</td>\n",
       "      <td>https://i.ytimg.com/vi/Ho_PIAAVLlE/hqdefault.jpg</td>\n",
       "    </tr>\n",
       "    <tr>\n",
       "      <th>1</th>\n",
       "      <td>NIMCET Roadmap | NIMCET 2026 Preparation | NIM...</td>\n",
       "      <td>2.3K views</td>\n",
       "      <td>1 day ago</td>\n",
       "      <td>/watch?v=cgeb6Gojoho</td>\n",
       "      <td>https://i.ytimg.com/vi/cgeb6Gojoho/hqdefault.jpg</td>\n",
       "    </tr>\n",
       "    <tr>\n",
       "      <th>2</th>\n",
       "      <td>AI Engineer Roadmap – How to Learn AI in 2025 ...</td>\n",
       "      <td>15K views</td>\n",
       "      <td>2 days ago</td>\n",
       "      <td>/watch?v=JagRXz_mTU8</td>\n",
       "      <td>https://i.ytimg.com/vi/JagRXz_mTU8/hqdefault.jpg</td>\n",
       "    </tr>\n",
       "    <tr>\n",
       "      <th>3</th>\n",
       "      <td>How to Score 9+ CGPA in College 🔥 Complete Roa...</td>\n",
       "      <td>10K views</td>\n",
       "      <td>3 days ago</td>\n",
       "      <td>/watch?v=UttzVuaF-f0</td>\n",
       "      <td>https://i.ytimg.com/vi/UttzVuaF-f0/hqdefault.jpg</td>\n",
       "    </tr>\n",
       "    <tr>\n",
       "      <th>4</th>\n",
       "      <td>Course Walkthrough - How to Utilize the Free C...</td>\n",
       "      <td>9K views</td>\n",
       "      <td>8 days ago</td>\n",
       "      <td>/watch?v=Dl-eEZlv_pk&amp;pp=0gcJCccJAYcqIYzv</td>\n",
       "      <td>https://i.ytimg.com/vi/Dl-eEZlv_pk/hqdefault.jpg</td>\n",
       "    </tr>\n",
       "  </tbody>\n",
       "</table>\n",
       "</div>"
      ],
      "text/plain": [
       "                                               title       views   date_time  \\\n",
       "0  NIMCET 2026 | How To Prepare NIMCET 2026? | Bi...  1.3K views   1 day ago   \n",
       "1  NIMCET Roadmap | NIMCET 2026 Preparation | NIM...  2.3K views   1 day ago   \n",
       "2  AI Engineer Roadmap – How to Learn AI in 2025 ...   15K views  2 days ago   \n",
       "3  How to Score 9+ CGPA in College 🔥 Complete Roa...   10K views  3 days ago   \n",
       "4  Course Walkthrough - How to Utilize the Free C...    9K views  8 days ago   \n",
       "\n",
       "                                 video_link  \\\n",
       "0                      /watch?v=Ho_PIAAVLlE   \n",
       "1                      /watch?v=cgeb6Gojoho   \n",
       "2                      /watch?v=JagRXz_mTU8   \n",
       "3                      /watch?v=UttzVuaF-f0   \n",
       "4  /watch?v=Dl-eEZlv_pk&pp=0gcJCccJAYcqIYzv   \n",
       "\n",
       "                                     thumbnail_link  \n",
       "0  https://i.ytimg.com/vi/Ho_PIAAVLlE/hqdefault.jpg  \n",
       "1  https://i.ytimg.com/vi/cgeb6Gojoho/hqdefault.jpg  \n",
       "2  https://i.ytimg.com/vi/JagRXz_mTU8/hqdefault.jpg  \n",
       "3  https://i.ytimg.com/vi/UttzVuaF-f0/hqdefault.jpg  \n",
       "4  https://i.ytimg.com/vi/Dl-eEZlv_pk/hqdefault.jpg  "
      ]
     },
     "execution_count": 3,
     "metadata": {},
     "output_type": "execute_result"
    }
   ],
   "source": [
    "df = pd.read_csv('data.csv')\n",
    "\n",
    "df.head()"
   ]
  },
  {
   "cell_type": "code",
   "execution_count": 5,
   "id": "305b4c93-1070-45e4-84f3-913806569149",
   "metadata": {},
   "outputs": [
    {
     "data": {
      "text/plain": [
       "'C:\\\\Users\\\\Infinix\\\\anaconda3\\\\Lib\\\\site-packages\\\\chromedriver_binary\\\\chromedriver.exe'"
      ]
     },
     "execution_count": 5,
     "metadata": {},
     "output_type": "execute_result"
    }
   ],
   "source": [
    "chromedriver_binary.chromedriver_filename"
   ]
  },
  {
   "cell_type": "code",
   "execution_count": 7,
   "id": "0e11292b-165f-4a01-b99d-74d83b1137c8",
   "metadata": {},
   "outputs": [],
   "source": [
    "from selenium.webdriver.chrome.service import Service\n",
    "from selenium.webdriver.chrome.options import Options\n",
    "\n"
   ]
  },
  {
   "cell_type": "code",
   "execution_count": 11,
   "id": "7066cc63-6359-433d-ac56-e63b47861a6b",
   "metadata": {},
   "outputs": [
    {
     "name": "stderr",
     "output_type": "stream",
     "text": [
      "100%|████████████████████████████████████████████████████████████████████████████| 2047/2047 [4:56:34<00:00,  8.69s/it]\n"
     ]
    }
   ],
   "source": [
    "options=Options()\n",
    "service=Service()\n",
    "browser=webdriver.Chrome(service=service, options=options)\n",
    "browser.get('https://www.youtube.com/')\n",
    "\n",
    "time.sleep(2)\n",
    "\n",
    "data = []\n",
    "\n",
    "for link in tqdm(df['video_link']):\n",
    "    \n",
    "    link = 'https://www.youtube.com/' + link\n",
    "    browser.get(link)\n",
    "    \n",
    "    time.sleep(5)\n",
    "    soup = BeautifulSoup(browser.page_source, 'html.parser')\n",
    "    \n",
    "    try:\n",
    "        title=soup.find('yt-formatted-string',class_=\"style-scope ytd-watch-metadata\").text\n",
    "    except:\n",
    "        title = np.nan\n",
    "    \n",
    "    try:\n",
    "        info_tag = soup.find('yt-formatted-string', id='info')\n",
    "        if info_tag:\n",
    "            spans = info_tag.find_all('span')\n",
    "            views = spans[0].text.strip() if len(spans) > 0 else \"Views not found\"\n",
    "        else:\n",
    "            views = \"Info section not found\"\n",
    "    except:\n",
    "        view = np.nan\n",
    "        \n",
    "    try:\n",
    "        date_time = soup.find_all('yt-formatted-string', class_='style-scope ytd-video-primary-info-renderer')[1].text.strip()\n",
    "    except:\n",
    "        date_time = np.nan\n",
    "    \n",
    "    try:\n",
    "        like=soup.find('button-view-model',class_=\"yt-spec-button-view-model\").text\n",
    "    except:\n",
    "        like = np.nan\n",
    "      \n",
    "    try:\n",
    "        description=soup.find('ytd-text-inline-expander',class_=\"style-scope ytd-watch-metadata\").text\n",
    "    except:\n",
    "        description = np.nan\n",
    "\n",
    "\n",
    "    data.append([title , date_time, like, views, link, description])\n",
    "\n",
    "\n"
   ]
  },
  {
   "cell_type": "code",
   "execution_count": 13,
   "id": "c941f5a9-9780-48a3-b8f8-4140dcf014bf",
   "metadata": {},
   "outputs": [
    {
     "data": {
      "text/plain": [
       "2047"
      ]
     },
     "execution_count": 13,
     "metadata": {},
     "output_type": "execute_result"
    }
   ],
   "source": [
    "len(data)"
   ]
  },
  {
   "cell_type": "code",
   "execution_count": 15,
   "id": "17adccf1-c5e1-4d46-b7ad-5905c61b9970",
   "metadata": {},
   "outputs": [],
   "source": [
    "df = pd.DataFrame(data, columns = ['title','date_time','like','views','link','description'])\n"
   ]
  },
  {
   "cell_type": "code",
   "execution_count": 17,
   "id": "69ec2900-b4f1-444f-80d6-421634089cfb",
   "metadata": {},
   "outputs": [],
   "source": [
    "df.to_csv('gfg_data.csv',index = False)"
   ]
  },
  {
   "cell_type": "code",
   "execution_count": 19,
   "id": "b3c0f058-dbe5-4710-bfc5-0277cc75b983",
   "metadata": {},
   "outputs": [
    {
     "data": {
      "text/plain": [
       "0       NIMCET Batch Link - https://www.geeksforgeeks....\n",
       "1       NIMCET Batch Link - https://www.geeksforgeeks....\n",
       "2       Are you ready to launch your career as an AI E...\n",
       "3       Want to score 9+ CGPA consistently in college,...\n",
       "4       Bonus Rewards added: Get a chance to win free ...\n",
       "                              ...                        \n",
       "2042    Explanation for the article: http://www.geeksf...\n",
       "2043    Explanation for the article: http://geeksquiz....\n",
       "2044    Explanation for the article: http://www.geeksf...\n",
       "2045    Explanation for the Article: http://www.geeksf...\n",
       "2046    Here's you next clue  - Our comprehensive guid...\n",
       "Name: description, Length: 2047, dtype: object"
      ]
     },
     "execution_count": 19,
     "metadata": {},
     "output_type": "execute_result"
    }
   ],
   "source": [
    "df['description']"
   ]
  },
  {
   "cell_type": "code",
   "execution_count": null,
   "id": "271cf12c-ccf5-444e-b21a-dc0552b9c05f",
   "metadata": {},
   "outputs": [],
   "source": []
  }
 ],
 "metadata": {
  "kernelspec": {
   "display_name": "Python [conda env:base] *",
   "language": "python",
   "name": "conda-base-py"
  },
  "language_info": {
   "codemirror_mode": {
    "name": "ipython",
    "version": 3
   },
   "file_extension": ".py",
   "mimetype": "text/x-python",
   "name": "python",
   "nbconvert_exporter": "python",
   "pygments_lexer": "ipython3",
   "version": "3.12.7"
  }
 },
 "nbformat": 4,
 "nbformat_minor": 5
}
