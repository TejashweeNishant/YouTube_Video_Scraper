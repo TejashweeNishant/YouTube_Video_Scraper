{
 "cells": [
  {
   "cell_type": "markdown",
   "id": "96f3240d-434a-432a-a7d3-48bd0850d41c",
   "metadata": {},
   "source": [
    "#  YouTube Video Scraper – First Drop\n",
    "\n",
    "This notebook is the initial draft of my YouTube scraping project. The goal is to extract video-level metadata from a specific channel using Python automation tools.\n",
    "\n",
    "###  What this notebook currently does:\n",
    "- Opens the **GeeksforGeeks YouTube channel** using Selenium\n",
    "- Loads the channel's **Videos** section\n",
    "- Parses the HTML content using BeautifulSoup\n",
    "- Extracts:\n",
    "  -  **Video titles**\n",
    "  -  **Video links (relative URLs)**\n",
    "  -  **Text content of individual video blocks**\n",
    "  \n",
    "Currently, I'm experimenting with a few entries (not full scraping yet). This is just a working foundation — the structure will be extended to:\n",
    "- Loop over all visible videos\n",
    "- Save data in a structured format (CSV/JSON)\n",
    "- Possibly include extra fields like upload date, duration, views, and likes\n",
    "\n",
    "This is the **first drop** — just the beginning of building a full-fledged YouTube data analysis tool.\n"
   ]
  },
  {
   "cell_type": "code",
   "execution_count": 4,
   "id": "d771c94c-6028-462f-a7b8-a149c14cc35f",
   "metadata": {},
   "outputs": [],
   "source": [
    "import pandas as pd\n",
    "import numpy as np\n",
    "import requests\n",
    "from bs4 import BeautifulSoup\n",
    "from selenium import webdriver\n",
    "import chromedriver_binary"
   ]
  },
  {
   "cell_type": "code",
   "execution_count": 6,
   "id": "10742647-7ad1-4eda-b935-ff50200b0d22",
   "metadata": {},
   "outputs": [
    {
     "data": {
      "text/plain": [
       "'C:\\\\Users\\\\Infinix\\\\anaconda3\\\\Lib\\\\site-packages\\\\chromedriver_binary\\\\chromedriver.exe'"
      ]
     },
     "execution_count": 6,
     "metadata": {},
     "output_type": "execute_result"
    }
   ],
   "source": [
    "chromedriver_binary.chromedriver_filename"
   ]
  },
  {
   "cell_type": "code",
   "execution_count": 8,
   "id": "e7d724bb-91c4-4c3f-8c3b-b4c965e2892e",
   "metadata": {},
   "outputs": [],
   "source": [
    "from selenium.webdriver.chrome.service import Service\n",
    "from selenium.webdriver.chrome.options import Options\n",
    "options=Options()\n",
    "service=Service()\n",
    "browser=webdriver.Chrome(service=service, options=options)\n",
    "browser.get('https://www.youtube.com/@GeeksforGeeksVideos/videos')\n"
   ]
  },
  {
   "cell_type": "code",
   "execution_count": 10,
   "id": "0da9a54c-469d-4fa9-a90e-6ffb87eb1eb1",
   "metadata": {},
   "outputs": [],
   "source": [
    "soup=BeautifulSoup(browser.page_source,'html.parser')"
   ]
  },
  {
   "cell_type": "code",
   "execution_count": 12,
   "id": "924b1ae3-330d-4156-be3b-554823304c06",
   "metadata": {},
   "outputs": [],
   "source": [
    "sp=soup.find('ytd-rich-grid-renderer')"
   ]
  },
  {
   "cell_type": "code",
   "execution_count": 14,
   "id": "7cd94193-9a34-4a4f-b6a7-2ca72745202b",
   "metadata": {},
   "outputs": [
    {
     "data": {
      "text/plain": [
       "'\\n\\n7:34\\n    7:34\\n  Now playing\\n\\n\\n\\n\\n\\n\\n\\n\\n\\n\\n\\n\\n\\n\\n\\n7:34\\n7:34\\n    7:34\\n  Now playing\\n\\n\\n\\n\\n\\n\\n\\n\\n\\n\\n\\nCourse Walkthrough - How to Utilize the Free Courses in Nation Skillup | GeeksforGeeks\\n\\n\\n\\n\\n\\n\\n\\n\\n\\n\\n\\n  Verified\\n\\n\\n\\n•\\n\\n\\n\\n\\n•\\n9.7K views\\n11 days ago\\n\\n\\n\\n\\n\\n\\n\\n\\n'"
      ]
     },
     "execution_count": 14,
     "metadata": {},
     "output_type": "execute_result"
    }
   ],
   "source": [
    "sp.find_all('ytd-rich-item-renderer')[6].text"
   ]
  },
  {
   "cell_type": "code",
   "execution_count": 16,
   "id": "8b6f7d9f-432e-4323-a7be-3cdb93cc26e9",
   "metadata": {},
   "outputs": [
    {
     "data": {
      "text/plain": [
       "<a aria-label=\"Nation SkillUp FAQ | FAQ All Answered | Utilize Nation Skillup to Learn &amp; Win Rewards! 8 minutes, 6 seconds\" class=\"yt-simple-endpoint focus-on-expand style-scope ytd-rich-grid-media\" href=\"/watch?v=pFVxy3f9kAE\" id=\"video-title-link\" title=\"Nation SkillUp FAQ | FAQ All Answered | Utilize Nation Skillup to Learn &amp; Win Rewards!\"><yt-formatted-string class=\"style-scope ytd-rich-grid-media\" id=\"video-title\">Nation SkillUp FAQ | FAQ All Answered | Utilize Nation Skillup to Learn &amp; Win Rewards!</yt-formatted-string></a>"
      ]
     },
     "execution_count": 16,
     "metadata": {},
     "output_type": "execute_result"
    }
   ],
   "source": [
    "sp.find_all('a',class_=\"yt-simple-endpoint focus-on-expand style-scope ytd-rich-grid-media\")[1]"
   ]
  },
  {
   "cell_type": "code",
   "execution_count": 18,
   "id": "a25c916e-91e9-44e8-9f39-2751c356d2c6",
   "metadata": {},
   "outputs": [],
   "source": [
    "title=sp.find_all('a',class_=\"yt-simple-endpoint focus-on-expand style-scope ytd-rich-grid-media\")[0].text\n",
    "video_link=sp.find_all('a',class_=\"yt-simple-endpoint focus-on-expand style-scope ytd-rich-grid-media\")[0].get('href')\n",
    "views=sp.find_all('span',class_='inline-metadata-item style-scope ytd-video-meta-block')[0].text\n",
    "date_time = sp.find_all('span',class_=\"inline-metadata-item style-scope ytd-video-meta-block\")[1].text\n",
    "thumbnail_link = sp.find_all('img')[0].get('src').split('?')[0]"
   ]
  },
  {
   "cell_type": "code",
   "execution_count": 107,
   "id": "991b76af-8816-4e89-8ae9-b98291d5e230",
   "metadata": {},
   "outputs": [
    {
     "data": {
      "text/plain": [
       "'NIMCET 2026 | How To Prepare NIMCET 2026? | Big Update For NIMCET 2026 Batch'"
      ]
     },
     "execution_count": 107,
     "metadata": {},
     "output_type": "execute_result"
    }
   ],
   "source": [
    "title"
   ]
  },
  {
   "cell_type": "code",
   "execution_count": 111,
   "id": "36134979-cb84-452a-800a-1c8c38fb6575",
   "metadata": {},
   "outputs": [
    {
     "data": {
      "text/plain": [
       "'/watch?v=Ho_PIAAVLlE'"
      ]
     },
     "execution_count": 111,
     "metadata": {},
     "output_type": "execute_result"
    }
   ],
   "source": [
    "video_link"
   ]
  },
  {
   "cell_type": "code",
   "execution_count": 113,
   "id": "9575605f-ca01-4a4a-b986-8081c3a520bc",
   "metadata": {},
   "outputs": [
    {
     "data": {
      "text/plain": [
       "'1.3K views'"
      ]
     },
     "execution_count": 113,
     "metadata": {},
     "output_type": "execute_result"
    }
   ],
   "source": [
    "views"
   ]
  },
  {
   "cell_type": "code",
   "execution_count": 115,
   "id": "2a4ec017-fe1d-47a0-a956-326ee74602fb",
   "metadata": {},
   "outputs": [
    {
     "data": {
      "text/plain": [
       "'1 day ago'"
      ]
     },
     "execution_count": 115,
     "metadata": {},
     "output_type": "execute_result"
    }
   ],
   "source": [
    "date_time"
   ]
  },
  {
   "cell_type": "code",
   "execution_count": 207,
   "id": "bd11b06a-361b-4804-b896-ac95676f096b",
   "metadata": {},
   "outputs": [],
   "source": [
    "data =[]\n",
    "\n",
    "for sp in soup.find_all('ytd-rich-item-renderer'):\n",
    "\n",
    "    \n",
    "    title=sp.find('a',class_=\"yt-simple-endpoint focus-on-expand style-scope ytd-rich-grid-media\").text\n",
    "    video_link=sp.find('a',class_=\"yt-simple-endpoint focus-on-expand style-scope ytd-rich-grid-media\").get('href')\n",
    "\n",
    "    try:\n",
    "        views=sp.find_all('span',class_='inline-metadata-item style-scope ytd-video-meta-block')[0].text\n",
    "    except:\n",
    "        views= np.nan\n",
    "\n",
    "    try:\n",
    "        date_time = sp.find_all('span',class_=\"inline-metadata-item style-scope ytd-video-meta-block\")[1].text\n",
    "    except:\n",
    "        date_time = np.nan\n",
    "\n",
    "    try:\n",
    "        thumbnail_link = sp.find_all('img')[0].get('src').split('?')[0]\n",
    "    except:\n",
    "        thumbnail_link = np.nan\n",
    "\n",
    "    data.append([title, views, date_time, video_link, thumbnail_link])\n",
    "\n",
    "    "
   ]
  },
  {
   "cell_type": "code",
   "execution_count": 209,
   "id": "fbb4b5f5-b171-4214-be18-2a4ca3c943d9",
   "metadata": {},
   "outputs": [
    {
     "data": {
      "text/plain": [
       "2047"
      ]
     },
     "execution_count": 209,
     "metadata": {},
     "output_type": "execute_result"
    }
   ],
   "source": [
    "len(data)"
   ]
  },
  {
   "cell_type": "code",
   "execution_count": 213,
   "id": "c38fa35d-ea74-47ac-8ca0-2f24927c39e8",
   "metadata": {},
   "outputs": [],
   "source": [
    "df = pd.DataFrame(data, columns = ['title','views','date_time','video_link','thumbnail_link'])\n"
   ]
  },
  {
   "cell_type": "code",
   "execution_count": 215,
   "id": "ceb6c24d-0529-4994-8e90-d0f96e96660c",
   "metadata": {},
   "outputs": [
    {
     "data": {
      "text/html": [
       "<div>\n",
       "<style scoped>\n",
       "    .dataframe tbody tr th:only-of-type {\n",
       "        vertical-align: middle;\n",
       "    }\n",
       "\n",
       "    .dataframe tbody tr th {\n",
       "        vertical-align: top;\n",
       "    }\n",
       "\n",
       "    .dataframe thead th {\n",
       "        text-align: right;\n",
       "    }\n",
       "</style>\n",
       "<table border=\"1\" class=\"dataframe\">\n",
       "  <thead>\n",
       "    <tr style=\"text-align: right;\">\n",
       "      <th></th>\n",
       "      <th>title</th>\n",
       "      <th>views</th>\n",
       "      <th>date_time</th>\n",
       "      <th>video_link</th>\n",
       "      <th>thumbnail_link</th>\n",
       "    </tr>\n",
       "  </thead>\n",
       "  <tbody>\n",
       "    <tr>\n",
       "      <th>0</th>\n",
       "      <td>NIMCET 2026 | How To Prepare NIMCET 2026? | Bi...</td>\n",
       "      <td>1.3K views</td>\n",
       "      <td>1 day ago</td>\n",
       "      <td>/watch?v=Ho_PIAAVLlE</td>\n",
       "      <td>https://i.ytimg.com/vi/Ho_PIAAVLlE/hqdefault.jpg</td>\n",
       "    </tr>\n",
       "    <tr>\n",
       "      <th>1</th>\n",
       "      <td>NIMCET Roadmap | NIMCET 2026 Preparation | NIM...</td>\n",
       "      <td>2.3K views</td>\n",
       "      <td>1 day ago</td>\n",
       "      <td>/watch?v=cgeb6Gojoho</td>\n",
       "      <td>https://i.ytimg.com/vi/cgeb6Gojoho/hqdefault.jpg</td>\n",
       "    </tr>\n",
       "    <tr>\n",
       "      <th>2</th>\n",
       "      <td>AI Engineer Roadmap – How to Learn AI in 2025 ...</td>\n",
       "      <td>15K views</td>\n",
       "      <td>2 days ago</td>\n",
       "      <td>/watch?v=JagRXz_mTU8</td>\n",
       "      <td>https://i.ytimg.com/vi/JagRXz_mTU8/hqdefault.jpg</td>\n",
       "    </tr>\n",
       "    <tr>\n",
       "      <th>3</th>\n",
       "      <td>How to Score 9+ CGPA in College 🔥 Complete Roa...</td>\n",
       "      <td>10K views</td>\n",
       "      <td>3 days ago</td>\n",
       "      <td>/watch?v=UttzVuaF-f0</td>\n",
       "      <td>https://i.ytimg.com/vi/UttzVuaF-f0/hqdefault.jpg</td>\n",
       "    </tr>\n",
       "    <tr>\n",
       "      <th>4</th>\n",
       "      <td>Course Walkthrough - How to Utilize the Free C...</td>\n",
       "      <td>9K views</td>\n",
       "      <td>8 days ago</td>\n",
       "      <td>/watch?v=Dl-eEZlv_pk&amp;pp=0gcJCccJAYcqIYzv</td>\n",
       "      <td>https://i.ytimg.com/vi/Dl-eEZlv_pk/hqdefault.jpg</td>\n",
       "    </tr>\n",
       "    <tr>\n",
       "      <th>...</th>\n",
       "      <td>...</td>\n",
       "      <td>...</td>\n",
       "      <td>...</td>\n",
       "      <td>...</td>\n",
       "      <td>...</td>\n",
       "    </tr>\n",
       "    <tr>\n",
       "      <th>2042</th>\n",
       "      <td>Length of shortest chain to reach a target wor...</td>\n",
       "      <td>44K views</td>\n",
       "      <td>9 years ago</td>\n",
       "      <td>/watch?v=6pIC20wCm20</td>\n",
       "      <td>https://i.ytimg.com/vi/6pIC20wCm20/hqdefault.jpg</td>\n",
       "    </tr>\n",
       "    <tr>\n",
       "      <th>2043</th>\n",
       "      <td>Binary Search | GeeksQuiz</td>\n",
       "      <td>192K views</td>\n",
       "      <td>9 years ago</td>\n",
       "      <td>/watch?v=T2sFYY-fT5o</td>\n",
       "      <td>https://i.ytimg.com/vi/T2sFYY-fT5o/hqdefault.jpg</td>\n",
       "    </tr>\n",
       "    <tr>\n",
       "      <th>2044</th>\n",
       "      <td>Number of Triangles in an Undirected Graph | G...</td>\n",
       "      <td>19K views</td>\n",
       "      <td>9 years ago</td>\n",
       "      <td>/watch?v=ChdNz1Ui1uc</td>\n",
       "      <td>https://i.ytimg.com/vi/ChdNz1Ui1uc/hqdefault.jpg</td>\n",
       "    </tr>\n",
       "    <tr>\n",
       "      <th>2045</th>\n",
       "      <td>Write a program to print all permutations of a...</td>\n",
       "      <td>492K views</td>\n",
       "      <td>9 years ago</td>\n",
       "      <td>/watch?v=AfxHGNRtFac</td>\n",
       "      <td>https://i.ytimg.com/vi/AfxHGNRtFac/hqdefault.jpg</td>\n",
       "    </tr>\n",
       "    <tr>\n",
       "      <th>2046</th>\n",
       "      <td>Longest Span with same Sum in two Binary array...</td>\n",
       "      <td>311K views</td>\n",
       "      <td>9 years ago</td>\n",
       "      <td>/watch?v=xtfj4-r_Ahs</td>\n",
       "      <td>https://i.ytimg.com/vi/xtfj4-r_Ahs/hqdefault.jpg</td>\n",
       "    </tr>\n",
       "  </tbody>\n",
       "</table>\n",
       "<p>2047 rows × 5 columns</p>\n",
       "</div>"
      ],
      "text/plain": [
       "                                                  title       views  \\\n",
       "0     NIMCET 2026 | How To Prepare NIMCET 2026? | Bi...  1.3K views   \n",
       "1     NIMCET Roadmap | NIMCET 2026 Preparation | NIM...  2.3K views   \n",
       "2     AI Engineer Roadmap – How to Learn AI in 2025 ...   15K views   \n",
       "3     How to Score 9+ CGPA in College 🔥 Complete Roa...   10K views   \n",
       "4     Course Walkthrough - How to Utilize the Free C...    9K views   \n",
       "...                                                 ...         ...   \n",
       "2042  Length of shortest chain to reach a target wor...   44K views   \n",
       "2043                          Binary Search | GeeksQuiz  192K views   \n",
       "2044  Number of Triangles in an Undirected Graph | G...   19K views   \n",
       "2045  Write a program to print all permutations of a...  492K views   \n",
       "2046  Longest Span with same Sum in two Binary array...  311K views   \n",
       "\n",
       "        date_time                                video_link  \\\n",
       "0       1 day ago                      /watch?v=Ho_PIAAVLlE   \n",
       "1       1 day ago                      /watch?v=cgeb6Gojoho   \n",
       "2      2 days ago                      /watch?v=JagRXz_mTU8   \n",
       "3      3 days ago                      /watch?v=UttzVuaF-f0   \n",
       "4      8 days ago  /watch?v=Dl-eEZlv_pk&pp=0gcJCccJAYcqIYzv   \n",
       "...           ...                                       ...   \n",
       "2042  9 years ago                      /watch?v=6pIC20wCm20   \n",
       "2043  9 years ago                      /watch?v=T2sFYY-fT5o   \n",
       "2044  9 years ago                      /watch?v=ChdNz1Ui1uc   \n",
       "2045  9 years ago                      /watch?v=AfxHGNRtFac   \n",
       "2046  9 years ago                      /watch?v=xtfj4-r_Ahs   \n",
       "\n",
       "                                        thumbnail_link  \n",
       "0     https://i.ytimg.com/vi/Ho_PIAAVLlE/hqdefault.jpg  \n",
       "1     https://i.ytimg.com/vi/cgeb6Gojoho/hqdefault.jpg  \n",
       "2     https://i.ytimg.com/vi/JagRXz_mTU8/hqdefault.jpg  \n",
       "3     https://i.ytimg.com/vi/UttzVuaF-f0/hqdefault.jpg  \n",
       "4     https://i.ytimg.com/vi/Dl-eEZlv_pk/hqdefault.jpg  \n",
       "...                                                ...  \n",
       "2042  https://i.ytimg.com/vi/6pIC20wCm20/hqdefault.jpg  \n",
       "2043  https://i.ytimg.com/vi/T2sFYY-fT5o/hqdefault.jpg  \n",
       "2044  https://i.ytimg.com/vi/ChdNz1Ui1uc/hqdefault.jpg  \n",
       "2045  https://i.ytimg.com/vi/AfxHGNRtFac/hqdefault.jpg  \n",
       "2046  https://i.ytimg.com/vi/xtfj4-r_Ahs/hqdefault.jpg  \n",
       "\n",
       "[2047 rows x 5 columns]"
      ]
     },
     "execution_count": 215,
     "metadata": {},
     "output_type": "execute_result"
    }
   ],
   "source": [
    "df"
   ]
  },
  {
   "cell_type": "code",
   "execution_count": 217,
   "id": "4b507d4e-7d2d-4d3c-b5bd-81110111fb94",
   "metadata": {},
   "outputs": [
    {
     "data": {
      "text/plain": [
       "title               0\n",
       "views               0\n",
       "date_time           0\n",
       "video_link          0\n",
       "thumbnail_link    108\n",
       "dtype: int64"
      ]
     },
     "execution_count": 217,
     "metadata": {},
     "output_type": "execute_result"
    }
   ],
   "source": [
    "df.isnull().sum()"
   ]
  },
  {
   "cell_type": "code",
   "execution_count": 219,
   "id": "0c2eae55-e5de-4c0e-bc19-aa9839a570b4",
   "metadata": {},
   "outputs": [],
   "source": [
    "df.to_csv('data.csv',index = False)\n"
   ]
  },
  {
   "cell_type": "code",
   "execution_count": null,
   "id": "a8ab0259-b111-4f4b-935f-ed541df1589f",
   "metadata": {},
   "outputs": [],
   "source": []
  },
  {
   "cell_type": "code",
   "execution_count": null,
   "id": "53951f9b-6bb1-49a3-b9df-a077ec4bd290",
   "metadata": {},
   "outputs": [],
   "source": []
  }
 ],
 "metadata": {
  "kernelspec": {
   "display_name": "Python [conda env:base] *",
   "language": "python",
   "name": "conda-base-py"
  },
  "language_info": {
   "codemirror_mode": {
    "name": "ipython",
    "version": 3
   },
   "file_extension": ".py",
   "mimetype": "text/x-python",
   "name": "python",
   "nbconvert_exporter": "python",
   "pygments_lexer": "ipython3",
   "version": "3.12.7"
  }
 },
 "nbformat": 4,
 "nbformat_minor": 5
}
